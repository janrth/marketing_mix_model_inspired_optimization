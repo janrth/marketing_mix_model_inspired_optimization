{
 "cells": [
  {
   "cell_type": "code",
   "execution_count": 23,
   "id": "appointed-cooling",
   "metadata": {
    "ExecuteTime": {
     "end_time": "2021-04-09T09:43:02.955304Z",
     "start_time": "2021-04-09T09:42:59.905981Z"
    }
   },
   "outputs": [],
   "source": [
    "import pandas as pd\n",
    "import numpy as np\n",
    "\n",
    "import matplotlib.pyplot as plt\n",
    "from sklearn import metrics\n",
    "import statsmodels.api as sm\n",
    "from statsmodels.sandbox.regression.predstd import wls_prediction_std\n",
    "from sklearn.model_selection import train_test_split\n",
    "from sklearn import preprocessing\n",
    "import channel_optimization\n",
    "import create_database\n",
    "import sqlite3\n",
    "import sys\n",
    "\n",
    "pd.set_option('display.max_rows', 500)\n",
    "pd.set_option('display.max_columns', 500)\n",
    "pd.set_option('display.width', 1000)"
   ]
  },
  {
   "cell_type": "code",
   "execution_count": 2,
   "id": "constant-carroll",
   "metadata": {
    "ExecuteTime": {
     "end_time": "2021-04-09T09:43:04.272550Z",
     "start_time": "2021-04-09T09:43:04.268403Z"
    }
   },
   "outputs": [
    {
     "data": {
      "text/plain": [
       "'3.9.4 (default, Apr  9 2021, 09:32:38) \\n[Clang 10.0.0 ]'"
      ]
     },
     "execution_count": 2,
     "metadata": {},
     "output_type": "execute_result"
    }
   ],
   "source": [
    "#Check which python version used:\n",
    "sys.version"
   ]
  },
  {
   "cell_type": "markdown",
   "id": "particular-maintenance",
   "metadata": {},
   "source": [
    "#### Data load and descriptive"
   ]
  },
  {
   "cell_type": "code",
   "execution_count": 3,
   "id": "accepting-inspector",
   "metadata": {
    "ExecuteTime": {
     "end_time": "2021-04-09T09:43:06.766421Z",
     "start_time": "2021-04-09T09:43:06.725023Z"
    }
   },
   "outputs": [],
   "source": [
    "#Load data:\n",
    "df = pd.read_csv('data_agg.csv')"
   ]
  },
  {
   "cell_type": "code",
   "execution_count": 4,
   "id": "macro-hotel",
   "metadata": {
    "ExecuteTime": {
     "end_time": "2021-04-09T09:43:07.340129Z",
     "start_time": "2021-04-09T09:43:07.333077Z"
    }
   },
   "outputs": [
    {
     "data": {
      "text/plain": [
       "id_something    0\n",
       "contacts        0\n",
       "channel_a       0\n",
       "channel_b       0\n",
       "channel_c       0\n",
       "channel_d       0\n",
       "sales           0\n",
       "dtype: int64"
      ]
     },
     "execution_count": 4,
     "metadata": {},
     "output_type": "execute_result"
    }
   ],
   "source": [
    "#check na\n",
    "df.isna().sum()"
   ]
  },
  {
   "cell_type": "code",
   "execution_count": 5,
   "id": "executive-simulation",
   "metadata": {
    "ExecuteTime": {
     "end_time": "2021-04-09T09:43:08.833256Z",
     "start_time": "2021-04-09T09:43:08.680107Z"
    }
   },
   "outputs": [
    {
     "data": {
      "text/html": [
       "<div>\n",
       "<style scoped>\n",
       "    .dataframe tbody tr th:only-of-type {\n",
       "        vertical-align: middle;\n",
       "    }\n",
       "\n",
       "    .dataframe tbody tr th {\n",
       "        vertical-align: top;\n",
       "    }\n",
       "\n",
       "    .dataframe thead th {\n",
       "        text-align: right;\n",
       "    }\n",
       "</style>\n",
       "<table border=\"1\" class=\"dataframe\">\n",
       "  <thead>\n",
       "    <tr style=\"text-align: right;\">\n",
       "      <th></th>\n",
       "      <th>id_something</th>\n",
       "      <th>contacts</th>\n",
       "      <th>channel_a</th>\n",
       "      <th>channel_b</th>\n",
       "      <th>channel_c</th>\n",
       "      <th>channel_d</th>\n",
       "      <th>sales</th>\n",
       "    </tr>\n",
       "  </thead>\n",
       "  <tbody>\n",
       "    <tr>\n",
       "      <th>count</th>\n",
       "      <td>153.000000</td>\n",
       "      <td>153.000000</td>\n",
       "      <td>153.000000</td>\n",
       "      <td>153.000000</td>\n",
       "      <td>153.000000</td>\n",
       "      <td>153.000000</td>\n",
       "      <td>153.000000</td>\n",
       "    </tr>\n",
       "    <tr>\n",
       "      <th>mean</th>\n",
       "      <td>176.000000</td>\n",
       "      <td>0.148802</td>\n",
       "      <td>0.141092</td>\n",
       "      <td>0.210496</td>\n",
       "      <td>0.146689</td>\n",
       "      <td>0.048735</td>\n",
       "      <td>0.236188</td>\n",
       "    </tr>\n",
       "    <tr>\n",
       "      <th>std</th>\n",
       "      <td>44.311398</td>\n",
       "      <td>0.141284</td>\n",
       "      <td>0.138436</td>\n",
       "      <td>0.198500</td>\n",
       "      <td>0.139474</td>\n",
       "      <td>0.124072</td>\n",
       "      <td>0.192996</td>\n",
       "    </tr>\n",
       "    <tr>\n",
       "      <th>min</th>\n",
       "      <td>100.000000</td>\n",
       "      <td>0.000000</td>\n",
       "      <td>0.000000</td>\n",
       "      <td>0.000000</td>\n",
       "      <td>0.000000</td>\n",
       "      <td>0.000000</td>\n",
       "      <td>0.000000</td>\n",
       "    </tr>\n",
       "    <tr>\n",
       "      <th>25%</th>\n",
       "      <td>138.000000</td>\n",
       "      <td>0.041667</td>\n",
       "      <td>0.032258</td>\n",
       "      <td>0.048259</td>\n",
       "      <td>0.041356</td>\n",
       "      <td>0.003003</td>\n",
       "      <td>0.076531</td>\n",
       "    </tr>\n",
       "    <tr>\n",
       "      <th>50%</th>\n",
       "      <td>176.000000</td>\n",
       "      <td>0.108333</td>\n",
       "      <td>0.103226</td>\n",
       "      <td>0.160660</td>\n",
       "      <td>0.107797</td>\n",
       "      <td>0.009009</td>\n",
       "      <td>0.210204</td>\n",
       "    </tr>\n",
       "    <tr>\n",
       "      <th>75%</th>\n",
       "      <td>214.000000</td>\n",
       "      <td>0.230556</td>\n",
       "      <td>0.212903</td>\n",
       "      <td>0.325596</td>\n",
       "      <td>0.231864</td>\n",
       "      <td>0.033033</td>\n",
       "      <td>0.353061</td>\n",
       "    </tr>\n",
       "    <tr>\n",
       "      <th>max</th>\n",
       "      <td>252.000000</td>\n",
       "      <td>1.000000</td>\n",
       "      <td>1.000000</td>\n",
       "      <td>1.000000</td>\n",
       "      <td>1.000000</td>\n",
       "      <td>1.000000</td>\n",
       "      <td>1.000000</td>\n",
       "    </tr>\n",
       "  </tbody>\n",
       "</table>\n",
       "</div>"
      ],
      "text/plain": [
       "       id_something    contacts   channel_a   channel_b   channel_c   channel_d       sales\n",
       "count    153.000000  153.000000  153.000000  153.000000  153.000000  153.000000  153.000000\n",
       "mean     176.000000    0.148802    0.141092    0.210496    0.146689    0.048735    0.236188\n",
       "std       44.311398    0.141284    0.138436    0.198500    0.139474    0.124072    0.192996\n",
       "min      100.000000    0.000000    0.000000    0.000000    0.000000    0.000000    0.000000\n",
       "25%      138.000000    0.041667    0.032258    0.048259    0.041356    0.003003    0.076531\n",
       "50%      176.000000    0.108333    0.103226    0.160660    0.107797    0.009009    0.210204\n",
       "75%      214.000000    0.230556    0.212903    0.325596    0.231864    0.033033    0.353061\n",
       "max      252.000000    1.000000    1.000000    1.000000    1.000000    1.000000    1.000000"
      ]
     },
     "execution_count": 5,
     "metadata": {},
     "output_type": "execute_result"
    }
   ],
   "source": [
    "df.describe()"
   ]
  },
  {
   "cell_type": "code",
   "execution_count": 6,
   "id": "90a709eb",
   "metadata": {},
   "outputs": [
    {
     "data": {
      "text/plain": [
       "<matplotlib.collections.PathCollection at 0x7fd5a0032d60>"
      ]
     },
     "execution_count": 6,
     "metadata": {},
     "output_type": "execute_result"
    },
    {
     "data": {
      "image/png": "[encoded data removed]",
      "text/plain": [
       "<Figure size 432x288 with 1 Axes>"
      ]
     },
     "metadata": {
      "needs_background": "light"
     },
     "output_type": "display_data"
    }
   ],
   "source": [
    "plt.scatter(df.channel_a, df.sales)"
   ]
  },
  {
   "cell_type": "code",
   "execution_count": 7,
   "id": "peripheral-picture",
   "metadata": {
    "ExecuteTime": {
     "end_time": "2021-04-09T09:43:38.067225Z",
     "start_time": "2021-04-09T09:43:37.187383Z"
    }
   },
   "outputs": [
    {
     "data": {
      "image/png": "[encoded data removed]",
      "text/plain": [
       "<Figure size 576x360 with 1 Axes>"
      ]
     },
     "metadata": {
      "needs_background": "light"
     },
     "output_type": "display_data"
    },
    {
     "data": {
      "image/png": "[encoded data removed]",
      "text/plain": [
       "<Figure size 576x360 with 1 Axes>"
      ]
     },
     "metadata": {
      "needs_background": "light"
     },
     "output_type": "display_data"
    },
    {
     "data": {
      "image/png": "[encoded data removed]",
      "text/plain": [
       "<Figure size 576x360 with 1 Axes>"
      ]
     },
     "metadata": {
      "needs_background": "light"
     },
     "output_type": "display_data"
    },
    {
     "data": {
      "image/png": "[encoded data removed]",
      "text/plain": [
       "<Figure size 576x360 with 1 Axes>"
      ]
     },
     "metadata": {
      "needs_background": "light"
     },
     "output_type": "display_data"
    }
   ],
   "source": [
    "#plotting prescription sum vs underlying features:\n",
    "indep_var = [\n",
    "             'channel_a',\n",
    "             'channel_b',\n",
    "             'channel_c',\n",
    "             'channel_d'\n",
    "              ]\n",
    "\n",
    "for i in indep_var:\n",
    "    '''Plotting usage of channels vs sales'''\n",
    "    plt.figure(figsize=(8,5))\n",
    "    plt.title(i)\n",
    "    plt.scatter(df[i], df.sales)\n",
    "    plt.xlabel(i)\n",
    "    plt.ylabel('Sum of sales')"
   ]
  },
  {
   "cell_type": "code",
   "execution_count": 8,
   "id": "generous-massage",
   "metadata": {
    "ExecuteTime": {
     "end_time": "2021-04-09T09:44:05.707611Z",
     "start_time": "2021-04-09T09:44:05.687517Z"
    }
   },
   "outputs": [
    {
     "name": "stdout",
     "output_type": "stream",
     "text": [
      "Mean absolute error: 0.07\n",
      "r2: 0.63\n",
      "\n",
      "\n",
      "0.07877759741290129\n",
      "0.571293240614229\n",
      "\n",
      "Coefficients: \n",
      "                                  OLS Regression Results                                \n",
      "=======================================================================================\n",
      "Dep. Variable:                  sales   R-squared (uncentered):                   0.829\n",
      "Model:                            OLS   Adj. R-squared (uncentered):              0.824\n",
      "Method:                 Least Squares   F-statistic:                              180.6\n",
      "Date:                Sat, 15 May 2021   Prob (F-statistic):                    4.47e-56\n",
      "Time:                        20:41:59   Log-Likelihood:                          99.896\n",
      "No. Observations:                 153   AIC:                                     -191.8\n",
      "Df Residuals:                     149   BIC:                                     -179.7\n",
      "Df Model:                           4                                                  \n",
      "Covariance Type:            nonrobust                                                  \n",
      "==============================================================================\n",
      "                 coef    std err          t      P>|t|      [0.025      0.975]\n",
      "------------------------------------------------------------------------------\n",
      "channel_a      0.2683      0.339      0.792      0.430      -0.401       0.938\n",
      "channel_b      0.3670      0.066      5.557      0.000       0.237       0.498\n",
      "channel_c      0.6134      0.339      1.809      0.072      -0.057       1.283\n",
      "channel_d      0.1042      0.086      1.217      0.225      -0.065       0.273\n",
      "==============================================================================\n",
      "Omnibus:                       56.405   Durbin-Watson:                   1.749\n",
      "Prob(Omnibus):                  0.000   Jarque-Bera (JB):              165.406\n",
      "Skew:                           1.458   Prob(JB):                     1.21e-36\n",
      "Kurtosis:                       7.176   Cond. No.                         18.0\n",
      "==============================================================================\n",
      "\n",
      "Notes:\n",
      "[1] R² is computed without centering (uncentered) since the model does not contain a constant.\n",
      "[2] Standard Errors assume that the covariance matrix of the errors is correctly specified.\n"
     ]
    }
   ],
   "source": [
    "\n",
    "#fit LR:\n",
    "indep_var = [\n",
    "             'channel_a',\n",
    "             'channel_b',\n",
    "             'channel_c',\n",
    "             'channel_d'\n",
    "              ]\n",
    "\n",
    "target = 'sales'\n",
    "\n",
    "X = df[indep_var]\n",
    "y = df[target]\n",
    "\n",
    "X_train, X_test, y_train, y_test = train_test_split(X, y, test_size=0.2, random_state=1)\n",
    "\n",
    "# Train the model using the training sets\n",
    "lr_sales = sm.OLS(y_train, X_train).fit()\n",
    "y_pred = lr_sales.predict(X_test)\n",
    "\n",
    "#The mean squared error\n",
    "print('Mean absolute error: %.2f'\n",
    "      % metrics.mean_absolute_error(y_test, y_pred))\n",
    "#The coefficient of determination: 1 is perfect prediction\n",
    "print('r2: %.2f'\n",
    "      % metrics.r2_score(y_test, y_pred))\n",
    "print()\n",
    "print()\n",
    "\n",
    "lr_sales = sm.OLS(y, X).fit()\n",
    "#lr = ElasticNet(alpha=1.0)\n",
    "#lr = Ridge()\n",
    "#lr.fit(X, y)\n",
    "\n",
    "lr_pred = lr_sales.predict(X)\n",
    "print(metrics.mean_absolute_error(y, lr_pred))\n",
    "print(metrics.r2_score(y, lr_pred))\n",
    "print()\n",
    "print('Coefficients: \\n', lr_sales.summary())\n",
    "#lr.get_params()"
   ]
  },
  {
   "cell_type": "code",
   "execution_count": 9,
   "id": "accessory-enemy",
   "metadata": {
    "ExecuteTime": {
     "end_time": "2021-04-09T09:44:22.985494Z",
     "start_time": "2021-04-09T09:44:22.873741Z"
    }
   },
   "outputs": [
    {
     "data": {
      "text/plain": [
       "Text(0, 0.5, 'observed')"
      ]
     },
     "execution_count": 9,
     "metadata": {},
     "output_type": "execute_result"
    },
    {
     "data": {
      "image/png": "[encoded data removed]",
      "text/plain": [
       "<Figure size 432x288 with 1 Axes>"
      ]
     },
     "metadata": {
      "needs_background": "light"
     },
     "output_type": "display_data"
    }
   ],
   "source": [
    "plt.scatter(y_test, y_pred)\n",
    "plt.title('Observed sales vs predicted sales')\n",
    "plt.xlabel('prediction')\n",
    "plt.ylabel('observed')"
   ]
  },
  {
   "cell_type": "code",
   "execution_count": 10,
   "id": "alike-congress",
   "metadata": {
    "ExecuteTime": {
     "end_time": "2021-04-09T09:44:44.998569Z",
     "start_time": "2021-04-09T09:44:44.891584Z"
    }
   },
   "outputs": [
    {
     "data": {
      "text/plain": [
       "Text(0.5, 1.0, 'pred vs true for whole dataset (overfitted)')"
      ]
     },
     "execution_count": 10,
     "metadata": {},
     "output_type": "execute_result"
    },
    {
     "data": {
      "image/png": "[encoded data removed]",
      "text/plain": [
       "<Figure size 432x288 with 1 Axes>"
      ]
     },
     "metadata": {
      "needs_background": "light"
     },
     "output_type": "display_data"
    }
   ],
   "source": [
    "plt.scatter(lr_pred, y)\n",
    "plt.title('pred vs true for whole dataset (overfitted)')"
   ]
  },
  {
   "cell_type": "code",
   "execution_count": 11,
   "id": "39dd534e",
   "metadata": {
    "ExecuteTime": {
     "end_time": "2021-04-04T22:07:17.913844Z",
     "start_time": "2021-04-04T22:07:17.906674Z"
    }
   },
   "outputs": [
    {
     "name": "stdout",
     "output_type": "stream",
     "text": [
      "16.695923057980288\n"
     ]
    }
   ],
   "source": [
    "#Check multicollinearity:\n",
    "norm_x = X_train.values\n",
    "for i, name in enumerate(X):\n",
    "    if name == \"const\":\n",
    "        continue\n",
    "    norm_x[:,i] = X_train[name]/np.linalg.norm(X_train[name])\n",
    "norm_xtx = np.dot(norm_x.T,norm_x)\n",
    "\n",
    "eigs = np.linalg.eigvals(norm_xtx)\n",
    "condition_number = np.sqrt(eigs.max() / eigs.min())\n",
    "print(condition_number) #values above 20 are critical"
   ]
  },
  {
   "cell_type": "code",
   "execution_count": 12,
   "id": "alien-mediterranean",
   "metadata": {
    "ExecuteTime": {
     "end_time": "2021-04-09T09:45:01.919129Z",
     "start_time": "2021-04-09T09:45:01.902533Z"
    }
   },
   "outputs": [
    {
     "name": "stdout",
     "output_type": "stream",
     "text": [
      "Mean absolute error: 0.01\n",
      "r2: 0.99\n",
      "\n",
      "\n",
      "Coefficients: \n",
      "                                  OLS Regression Results                                \n",
      "=======================================================================================\n",
      "Dep. Variable:               contacts   R-squared (uncentered):                   0.998\n",
      "Model:                            OLS   Adj. R-squared (uncentered):              0.998\n",
      "Method:                 Least Squares   F-statistic:                          1.921e+04\n",
      "Date:                Sat, 15 May 2021   Prob (F-statistic):                   5.54e-201\n",
      "Time:                        20:42:00   Log-Likelihood:                          503.39\n",
      "No. Observations:                 153   AIC:                                     -998.8\n",
      "Df Residuals:                     149   BIC:                                     -986.7\n",
      "Df Model:                           4                                                  \n",
      "Covariance Type:            nonrobust                                                  \n",
      "==============================================================================\n",
      "                 coef    std err          t      P>|t|      [0.025      0.975]\n",
      "------------------------------------------------------------------------------\n",
      "channel_a      0.0956      0.024      3.943      0.000       0.048       0.144\n",
      "channel_b      0.0092      0.005      1.956      0.052   -9.44e-05       0.019\n",
      "channel_c      0.9041      0.024     37.269      0.000       0.856       0.952\n",
      "channel_d      0.0190      0.006      3.094      0.002       0.007       0.031\n",
      "==============================================================================\n",
      "Omnibus:                       19.781   Durbin-Watson:                   1.995\n",
      "Prob(Omnibus):                  0.000   Jarque-Bera (JB):               41.270\n",
      "Skew:                           0.556   Prob(JB):                     1.09e-09\n",
      "Kurtosis:                       5.289   Cond. No.                         18.0\n",
      "==============================================================================\n",
      "\n",
      "Notes:\n",
      "[1] R² is computed without centering (uncentered) since the model does not contain a constant.\n",
      "[2] Standard Errors assume that the covariance matrix of the errors is correctly specified.\n"
     ]
    }
   ],
   "source": [
    "#predict number of customers based on channel activity:\n",
    "#fit LR:\n",
    "indep_var = [\n",
    "             'channel_a',\n",
    "             'channel_b',\n",
    "             'channel_c',\n",
    "             'channel_d'\n",
    "              ]\n",
    "\n",
    "target = 'contacts'\n",
    "\n",
    "X = df[indep_var]\n",
    "y = df[target]\n",
    "\n",
    "X_train, X_test, y_train, y_test = train_test_split(X, y, test_size=0.2, random_state=1)\n",
    "\n",
    "lr_contacts = sm.OLS(y_train, X_train).fit()\n",
    "y_pred = lr_contacts.predict(X_test)\n",
    "\n",
    "# The mean squared error\n",
    "print('Mean absolute error: %.2f'\n",
    "      % metrics.mean_absolute_error(y_test, y_pred))\n",
    "# The coefficient of determination: 1 is perfect prediction\n",
    "print('r2: %.2f'\n",
    "      % metrics.r2_score(y_test, y_pred))\n",
    "print()\n",
    "print()\n",
    "\n",
    "lr_contacts = sm.OLS(y, X).fit(intercept=True)\n",
    "print('Coefficients: \\n', lr_contacts.summary())"
   ]
  },
  {
   "cell_type": "code",
   "execution_count": 13,
   "id": "palestinian-seeking",
   "metadata": {
    "ExecuteTime": {
     "end_time": "2021-04-09T09:45:23.257342Z",
     "start_time": "2021-04-09T09:45:23.119264Z"
    }
   },
   "outputs": [
    {
     "data": {
      "text/plain": [
       "Text(0, 0.5, 'observed')"
      ]
     },
     "execution_count": 13,
     "metadata": {},
     "output_type": "execute_result"
    },
    {
     "data": {
      "image/png": "[encoded data removed]",
      "text/plain": [
       "<Figure size 432x288 with 1 Axes>"
      ]
     },
     "metadata": {
      "needs_background": "light"
     },
     "output_type": "display_data"
    }
   ],
   "source": [
    "plt.scatter(y_pred, y_test)\n",
    "plt.title('Observed contacts vs predicted contacts')\n",
    "plt.xlabel('prediction')\n",
    "plt.ylabel('observed')"
   ]
  },
  {
   "cell_type": "code",
   "execution_count": 14,
   "id": "5da4e537",
   "metadata": {},
   "outputs": [
    {
     "data": {
      "image/png": "[encoded data removed]",
      "text/plain": [
       "<Figure size 432x288 with 1 Axes>"
      ]
     },
     "metadata": {
      "needs_background": "light"
     },
     "output_type": "display_data"
    }
   ],
   "source": [
    "#Showing effect of diminishing marginal returns\n",
    "#from negative exponential with varying alpha\n",
    "def negative_exponential(x,alpha,beta):\n",
    "    return [alpha*(1-np.exp(-beta*i)) for i in x]\n",
    "\n",
    "def michaelis_menten(x,alpha):\n",
    "    return [(alpha*i)/(1+0.78*i) for i in x]\n",
    "\n",
    "x_list = [1,2,3,4,5,7,9]\n",
    "alpha_list = [1, .8, .6, .2]\n",
    "legend_list = ['1', '.8', '.6', '.2']\n",
    "\n",
    "for i,v in enumerate(alpha_list):\n",
    "    temp = negative_exponential(\n",
    "                                x_list, alpha_list[i],\n",
    "                                0.2\n",
    "    )\n",
    "    plt.scatter(x_list, temp, label=legend_list[i])\n",
    "    \n",
    "    plt.legend()\n",
    "    plt.title('Effect of alpha on negative exponential function')"
   ]
  },
  {
   "cell_type": "code",
   "execution_count": 15,
   "id": "0f66e895",
   "metadata": {},
   "outputs": [],
   "source": [
    "#save coefficients in lists\n",
    "coef_sales = [lr_sales.params[0], \n",
    "              lr_sales.params[1],\n",
    "              lr_sales.params[2],\n",
    "              lr_sales.params[3]]\n",
    "\n",
    "coef_contacts = [lr_contacts.params[0],\n",
    "                 lr_contacts.params[1],\n",
    "                 lr_contacts.params[2],\n",
    "                 lr_contacts.params[3]]"
   ]
  },
  {
   "cell_type": "code",
   "execution_count": 16,
   "id": "1af62000",
   "metadata": {
    "scrolled": false
   },
   "outputs": [],
   "source": [
    "alpha = 0.6\n",
    "optimized_sales = []\n",
    "opti_a = []\n",
    "opti_b = []\n",
    "opti_c = []\n",
    "opti_d = []\n",
    "\n",
    "for value in range(0, df.shape[0]):\n",
    "    temp = [df.iloc[value][2],\n",
    "         df.iloc[value][3],\n",
    "         df.iloc[value][4],\n",
    "         df.iloc[value][5]]\n",
    "\n",
    "    cust_x = df.iloc[value][2]\n",
    "\n",
    "    sq = channel_optimization.optimization(coef_sales,\n",
    "                                           coef_contacts,\n",
    "                                           temp,\n",
    "                                           cust_x,\n",
    "                                           alpha)\n",
    "    sq.optimizer\n",
    "    opti_temp = sq.optimizer(temp)\n",
    "    optimized_sales.append(-sq.objective_function(opti_temp.x))\n",
    "    opti_a.append(opti_temp.x[0])\n",
    "    opti_b.append(opti_temp.x[1])\n",
    "    opti_c.append(opti_temp.x[2])\n",
    "    opti_d.append(opti_temp.x[3])\n",
    "df['optimized_sales'] = optimized_sales  \n",
    "df['optimized_a'] = opti_a\n",
    "df['optimized_b'] = opti_b\n",
    "df['optimized_c'] = opti_c\n",
    "df['optimized_d'] = opti_d"
   ]
  },
  {
   "cell_type": "code",
   "execution_count": 17,
   "id": "1821e12c",
   "metadata": {},
   "outputs": [
    {
     "data": {
      "text/plain": [
       "<AxesSubplot:>"
      ]
     },
     "execution_count": 17,
     "metadata": {},
     "output_type": "execute_result"
    },
    {
     "data": {
      "image/png": "[encoded data removed]",
      "text/plain": [
       "<Figure size 432x288 with 1 Axes>"
      ]
     },
     "metadata": {
      "needs_background": "light"
     },
     "output_type": "display_data"
    }
   ],
   "source": [
    "#Comparing initial and expected sales after optimization of channel activity\n",
    "df.optimized_sales.hist(bins=50, alpha=0.8)\n",
    "df.sales.hist(bins=50, alpha=.2)\n",
    "plt.title('Comparing initial sales and expected sales after ')"
   ]
  },
  {
   "cell_type": "code",
   "execution_count": 18,
   "id": "df1bb054",
   "metadata": {},
   "outputs": [
    {
     "data": {
      "text/html": [
       "<div>\n",
       "<style scoped>\n",
       "    .dataframe tbody tr th:only-of-type {\n",
       "        vertical-align: middle;\n",
       "    }\n",
       "\n",
       "    .dataframe tbody tr th {\n",
       "        vertical-align: top;\n",
       "    }\n",
       "\n",
       "    .dataframe thead th {\n",
       "        text-align: right;\n",
       "    }\n",
       "</style>\n",
       "<table border=\"1\" class=\"dataframe\">\n",
       "  <thead>\n",
       "    <tr style=\"text-align: right;\">\n",
       "      <th></th>\n",
       "      <th>sales</th>\n",
       "      <th>optimized_sales</th>\n",
       "    </tr>\n",
       "  </thead>\n",
       "  <tbody>\n",
       "    <tr>\n",
       "      <th>count</th>\n",
       "      <td>153.000000</td>\n",
       "      <td>153.000000</td>\n",
       "    </tr>\n",
       "    <tr>\n",
       "      <th>mean</th>\n",
       "      <td>0.236188</td>\n",
       "      <td>0.323801</td>\n",
       "    </tr>\n",
       "    <tr>\n",
       "      <th>std</th>\n",
       "      <td>0.192996</td>\n",
       "      <td>0.136516</td>\n",
       "    </tr>\n",
       "    <tr>\n",
       "      <th>min</th>\n",
       "      <td>0.000000</td>\n",
       "      <td>0.000000</td>\n",
       "    </tr>\n",
       "    <tr>\n",
       "      <th>25%</th>\n",
       "      <td>0.076531</td>\n",
       "      <td>0.250497</td>\n",
       "    </tr>\n",
       "    <tr>\n",
       "      <th>50%</th>\n",
       "      <td>0.210204</td>\n",
       "      <td>0.357596</td>\n",
       "    </tr>\n",
       "    <tr>\n",
       "      <th>75%</th>\n",
       "      <td>0.353061</td>\n",
       "      <td>0.420083</td>\n",
       "    </tr>\n",
       "    <tr>\n",
       "      <th>max</th>\n",
       "      <td>1.000000</td>\n",
       "      <td>0.653768</td>\n",
       "    </tr>\n",
       "  </tbody>\n",
       "</table>\n",
       "</div>"
      ],
      "text/plain": [
       "            sales  optimized_sales\n",
       "count  153.000000       153.000000\n",
       "mean     0.236188         0.323801\n",
       "std      0.192996         0.136516\n",
       "min      0.000000         0.000000\n",
       "25%      0.076531         0.250497\n",
       "50%      0.210204         0.357596\n",
       "75%      0.353061         0.420083\n",
       "max      1.000000         0.653768"
      ]
     },
     "execution_count": 18,
     "metadata": {},
     "output_type": "execute_result"
    }
   ],
   "source": [
    "df[['sales', 'optimized_sales']].describe()"
   ]
  },
  {
   "cell_type": "code",
   "execution_count": 19,
   "id": "bba9e1a1",
   "metadata": {},
   "outputs": [
    {
     "data": {
      "text/plain": [
       "<AxesSubplot:>"
      ]
     },
     "execution_count": 19,
     "metadata": {},
     "output_type": "execute_result"
    },
    {
     "data": {
      "image/png": "[encoded data removed]",
      "text/plain": [
       "<Figure size 432x288 with 1 Axes>"
      ]
     },
     "metadata": {
      "needs_background": "light"
     },
     "output_type": "display_data"
    }
   ],
   "source": [
    "#Plotting histogram of simple delta between initial and \n",
    "#optimized sales\n",
    "df['delta'] = df.optimized_sales - df.sales\n",
    "df.delta.hist(bins=50)"
   ]
  },
  {
   "cell_type": "code",
   "execution_count": 21,
   "id": "d5058614",
   "metadata": {},
   "outputs": [],
   "source": [
    "#Upload channel recommendations for each sales id into database\n",
    "df_upload = df[['id_something', \n",
    "                'optimized_a', \n",
    "                'optimized_b', \n",
    "                'optimized_c', \n",
    "                'optimized_d']]\n",
    "\n",
    "db = create_database.database('channel_recommendations', \n",
    "              df_upload.columns, \n",
    "              df_upload)\n",
    "db.create_db()"
   ]
  },
  {
   "cell_type": "code",
   "execution_count": 25,
   "id": "02794235",
   "metadata": {},
   "outputs": [
    {
     "data": {
      "text/html": [
       "<div>\n",
       "<style scoped>\n",
       "    .dataframe tbody tr th:only-of-type {\n",
       "        vertical-align: middle;\n",
       "    }\n",
       "\n",
       "    .dataframe tbody tr th {\n",
       "        vertical-align: top;\n",
       "    }\n",
       "\n",
       "    .dataframe thead th {\n",
       "        text-align: right;\n",
       "    }\n",
       "</style>\n",
       "<table border=\"1\" class=\"dataframe\">\n",
       "  <thead>\n",
       "    <tr style=\"text-align: right;\">\n",
       "      <th></th>\n",
       "      <th>id_something</th>\n",
       "      <th>optimized_a</th>\n",
       "      <th>optimized_b</th>\n",
       "      <th>optimized_c</th>\n",
       "      <th>optimized_d</th>\n",
       "    </tr>\n",
       "  </thead>\n",
       "  <tbody>\n",
       "    <tr>\n",
       "      <th>57</th>\n",
       "      <td>158.0</td>\n",
       "      <td>1.000000</td>\n",
       "      <td>1.0</td>\n",
       "      <td>0.162738</td>\n",
       "      <td>1.000000</td>\n",
       "    </tr>\n",
       "    <tr>\n",
       "      <th>32</th>\n",
       "      <td>133.0</td>\n",
       "      <td>1.000000</td>\n",
       "      <td>1.0</td>\n",
       "      <td>0.155602</td>\n",
       "      <td>1.000000</td>\n",
       "    </tr>\n",
       "    <tr>\n",
       "      <th>87</th>\n",
       "      <td>188.0</td>\n",
       "      <td>0.000000</td>\n",
       "      <td>1.0</td>\n",
       "      <td>0.000000</td>\n",
       "      <td>0.533387</td>\n",
       "    </tr>\n",
       "    <tr>\n",
       "      <th>143</th>\n",
       "      <td>244.0</td>\n",
       "      <td>0.177375</td>\n",
       "      <td>1.0</td>\n",
       "      <td>0.000000</td>\n",
       "      <td>1.000000</td>\n",
       "    </tr>\n",
       "    <tr>\n",
       "      <th>70</th>\n",
       "      <td>171.0</td>\n",
       "      <td>1.000000</td>\n",
       "      <td>1.0</td>\n",
       "      <td>0.119924</td>\n",
       "      <td>1.000000</td>\n",
       "    </tr>\n",
       "    <tr>\n",
       "      <th>100</th>\n",
       "      <td>201.0</td>\n",
       "      <td>0.177375</td>\n",
       "      <td>1.0</td>\n",
       "      <td>0.000000</td>\n",
       "      <td>1.000000</td>\n",
       "    </tr>\n",
       "    <tr>\n",
       "      <th>49</th>\n",
       "      <td>150.0</td>\n",
       "      <td>0.042446</td>\n",
       "      <td>1.0</td>\n",
       "      <td>0.000000</td>\n",
       "      <td>1.000000</td>\n",
       "    </tr>\n",
       "    <tr>\n",
       "      <th>8</th>\n",
       "      <td>109.0</td>\n",
       "      <td>0.312304</td>\n",
       "      <td>1.0</td>\n",
       "      <td>0.000000</td>\n",
       "      <td>1.000000</td>\n",
       "    </tr>\n",
       "    <tr>\n",
       "      <th>84</th>\n",
       "      <td>185.0</td>\n",
       "      <td>1.000000</td>\n",
       "      <td>1.0</td>\n",
       "      <td>0.119924</td>\n",
       "      <td>1.000000</td>\n",
       "    </tr>\n",
       "    <tr>\n",
       "      <th>18</th>\n",
       "      <td>119.0</td>\n",
       "      <td>1.000000</td>\n",
       "      <td>1.0</td>\n",
       "      <td>0.034297</td>\n",
       "      <td>1.000000</td>\n",
       "    </tr>\n",
       "  </tbody>\n",
       "</table>\n",
       "</div>"
      ],
      "text/plain": [
       "     id_something  optimized_a  optimized_b  optimized_c  optimized_d\n",
       "57          158.0     1.000000          1.0     0.162738     1.000000\n",
       "32          133.0     1.000000          1.0     0.155602     1.000000\n",
       "87          188.0     0.000000          1.0     0.000000     0.533387\n",
       "143         244.0     0.177375          1.0     0.000000     1.000000\n",
       "70          171.0     1.000000          1.0     0.119924     1.000000\n",
       "100         201.0     0.177375          1.0     0.000000     1.000000\n",
       "49          150.0     0.042446          1.0     0.000000     1.000000\n",
       "8           109.0     0.312304          1.0     0.000000     1.000000\n",
       "84          185.0     1.000000          1.0     0.119924     1.000000\n",
       "18          119.0     1.000000          1.0     0.034297     1.000000"
      ]
     },
     "execution_count": 25,
     "metadata": {},
     "output_type": "execute_result"
    }
   ],
   "source": [
    "#Connect to database and download recommendations\n",
    "conn_db = sqlite3.connect('channel_recommendations.db')\n",
    "\n",
    "check = pd.read_sql_query(\"SELECT * FROM channel_recommendations\",\n",
    "                          conn_db)\n",
    "check.sample(10)"
   ]
  }
 ],
 "metadata": {
  "hide_input": false,
  "kernelspec": {
   "display_name": "Python 3",
   "language": "python",
   "name": "python3"
  },
  "language_info": {
   "codemirror_mode": {
    "name": "ipython",
    "version": 3
   },
   "file_extension": ".py",
   "mimetype": "text/x-python",
   "name": "python",
   "nbconvert_exporter": "python",
   "pygments_lexer": "ipython3",
   "version": "3.9.4"
  }
 },
 "nbformat": 4,
 "nbformat_minor": 5
}
